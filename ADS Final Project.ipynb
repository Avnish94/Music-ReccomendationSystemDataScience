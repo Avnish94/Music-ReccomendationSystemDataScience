{
 "cells": [
  {
   "cell_type": "markdown",
   "metadata": {},
   "source": [
    "# Spotify Recommender System\n",
    "\n",
    "\n",
    "\n",
    "The dataset our group is using is a csv file that contains the top most streamed Spotify songs each year from 2010 all the way to 2019. We pulled this dataset from kaggle.com, and it contains a lot of properties of the music that we would like to play around with. Along with each song, the dataset contains the artist, release date, genre, beats per minute, energy rating, danceability rating (the higher the value the easier it is to dance to), loudness, and liveness (a higher value means the song is more likely a recording). We hope that we can experiment with and fine tune each of these parameters in order to make a quality recommendation system. We then plan on creating our own datasets that simulate the “user”. \n"
   ]
  },
  {
   "cell_type": "markdown",
   "metadata": {},
   "source": [
    "We were able to use the groupby function to group together the corresponding beats per minute, danceability, and energy of each genre. We then plotted these values to compare different values for different categories as well as compute means to try and find patterns.\n",
    "\n",
    "We began the process of creating a recommender system by taking a varied sample of songs from the dataset and creating a preference matrix using ratings of each category. We then performed analysis on the perference matrix to figure out which categories were most important."
   ]
  },
  {
   "cell_type": "code",
   "execution_count": 3,
   "metadata": {},
   "outputs": [],
   "source": [
    "import numpy as np\n",
    "import pandas as pd\n",
    "import matplotlib.pyplot as plt\n",
    "from sklearn.decomposition import PCA\n"
   ]
  },
  {
   "cell_type": "code",
   "execution_count": 7,
   "metadata": {},
   "outputs": [
    {
     "data": {
      "text/html": [
       "<div>\n",
       "<style scoped>\n",
       "    .dataframe tbody tr th:only-of-type {\n",
       "        vertical-align: middle;\n",
       "    }\n",
       "\n",
       "    .dataframe tbody tr th {\n",
       "        vertical-align: top;\n",
       "    }\n",
       "\n",
       "    .dataframe thead th {\n",
       "        text-align: right;\n",
       "    }\n",
       "</style>\n",
       "<table border=\"1\" class=\"dataframe\">\n",
       "  <thead>\n",
       "    <tr style=\"text-align: right;\">\n",
       "      <th></th>\n",
       "      <th>title</th>\n",
       "      <th>artist</th>\n",
       "      <th>top genre</th>\n",
       "      <th>year</th>\n",
       "      <th>bpm</th>\n",
       "      <th>nrgy</th>\n",
       "      <th>dnce</th>\n",
       "      <th>dB</th>\n",
       "      <th>live</th>\n",
       "      <th>val</th>\n",
       "      <th>dur</th>\n",
       "      <th>acous</th>\n",
       "      <th>spch</th>\n",
       "      <th>pop</th>\n",
       "    </tr>\n",
       "  </thead>\n",
       "  <tbody>\n",
       "    <tr>\n",
       "      <td>0</td>\n",
       "      <td>Hey, Soul Sister</td>\n",
       "      <td>Train</td>\n",
       "      <td>neo mellow</td>\n",
       "      <td>2010</td>\n",
       "      <td>97</td>\n",
       "      <td>89</td>\n",
       "      <td>67</td>\n",
       "      <td>-4</td>\n",
       "      <td>8</td>\n",
       "      <td>80</td>\n",
       "      <td>217</td>\n",
       "      <td>19</td>\n",
       "      <td>4</td>\n",
       "      <td>83</td>\n",
       "    </tr>\n",
       "    <tr>\n",
       "      <td>1</td>\n",
       "      <td>Love The Way You Lie</td>\n",
       "      <td>Eminem</td>\n",
       "      <td>detroit hip hop</td>\n",
       "      <td>2010</td>\n",
       "      <td>87</td>\n",
       "      <td>93</td>\n",
       "      <td>75</td>\n",
       "      <td>-5</td>\n",
       "      <td>52</td>\n",
       "      <td>64</td>\n",
       "      <td>263</td>\n",
       "      <td>24</td>\n",
       "      <td>23</td>\n",
       "      <td>82</td>\n",
       "    </tr>\n",
       "    <tr>\n",
       "      <td>2</td>\n",
       "      <td>TiK ToK</td>\n",
       "      <td>Kesha</td>\n",
       "      <td>dance pop</td>\n",
       "      <td>2010</td>\n",
       "      <td>120</td>\n",
       "      <td>84</td>\n",
       "      <td>76</td>\n",
       "      <td>-3</td>\n",
       "      <td>29</td>\n",
       "      <td>71</td>\n",
       "      <td>200</td>\n",
       "      <td>10</td>\n",
       "      <td>14</td>\n",
       "      <td>80</td>\n",
       "    </tr>\n",
       "    <tr>\n",
       "      <td>3</td>\n",
       "      <td>Bad Romance</td>\n",
       "      <td>Lady Gaga</td>\n",
       "      <td>dance pop</td>\n",
       "      <td>2010</td>\n",
       "      <td>119</td>\n",
       "      <td>92</td>\n",
       "      <td>70</td>\n",
       "      <td>-4</td>\n",
       "      <td>8</td>\n",
       "      <td>71</td>\n",
       "      <td>295</td>\n",
       "      <td>0</td>\n",
       "      <td>4</td>\n",
       "      <td>79</td>\n",
       "    </tr>\n",
       "    <tr>\n",
       "      <td>4</td>\n",
       "      <td>Just the Way You Are</td>\n",
       "      <td>Bruno Mars</td>\n",
       "      <td>pop</td>\n",
       "      <td>2010</td>\n",
       "      <td>109</td>\n",
       "      <td>84</td>\n",
       "      <td>64</td>\n",
       "      <td>-5</td>\n",
       "      <td>9</td>\n",
       "      <td>43</td>\n",
       "      <td>221</td>\n",
       "      <td>2</td>\n",
       "      <td>4</td>\n",
       "      <td>78</td>\n",
       "    </tr>\n",
       "    <tr>\n",
       "      <td>...</td>\n",
       "      <td>...</td>\n",
       "      <td>...</td>\n",
       "      <td>...</td>\n",
       "      <td>...</td>\n",
       "      <td>...</td>\n",
       "      <td>...</td>\n",
       "      <td>...</td>\n",
       "      <td>...</td>\n",
       "      <td>...</td>\n",
       "      <td>...</td>\n",
       "      <td>...</td>\n",
       "      <td>...</td>\n",
       "      <td>...</td>\n",
       "      <td>...</td>\n",
       "    </tr>\n",
       "    <tr>\n",
       "      <td>598</td>\n",
       "      <td>Find U Again (feat. Camila Cabello)</td>\n",
       "      <td>Mark Ronson</td>\n",
       "      <td>dance pop</td>\n",
       "      <td>2019</td>\n",
       "      <td>104</td>\n",
       "      <td>66</td>\n",
       "      <td>61</td>\n",
       "      <td>-7</td>\n",
       "      <td>20</td>\n",
       "      <td>16</td>\n",
       "      <td>176</td>\n",
       "      <td>1</td>\n",
       "      <td>3</td>\n",
       "      <td>75</td>\n",
       "    </tr>\n",
       "    <tr>\n",
       "      <td>599</td>\n",
       "      <td>Cross Me (feat. Chance the Rapper &amp; PnB Rock)</td>\n",
       "      <td>Ed Sheeran</td>\n",
       "      <td>pop</td>\n",
       "      <td>2019</td>\n",
       "      <td>95</td>\n",
       "      <td>79</td>\n",
       "      <td>75</td>\n",
       "      <td>-6</td>\n",
       "      <td>7</td>\n",
       "      <td>61</td>\n",
       "      <td>206</td>\n",
       "      <td>21</td>\n",
       "      <td>12</td>\n",
       "      <td>75</td>\n",
       "    </tr>\n",
       "    <tr>\n",
       "      <td>600</td>\n",
       "      <td>No Brainer (feat. Justin Bieber, Chance the Ra...</td>\n",
       "      <td>DJ Khaled</td>\n",
       "      <td>dance pop</td>\n",
       "      <td>2019</td>\n",
       "      <td>136</td>\n",
       "      <td>76</td>\n",
       "      <td>53</td>\n",
       "      <td>-5</td>\n",
       "      <td>9</td>\n",
       "      <td>65</td>\n",
       "      <td>260</td>\n",
       "      <td>7</td>\n",
       "      <td>34</td>\n",
       "      <td>70</td>\n",
       "    </tr>\n",
       "    <tr>\n",
       "      <td>601</td>\n",
       "      <td>Nothing Breaks Like a Heart (feat. Miley Cyrus)</td>\n",
       "      <td>Mark Ronson</td>\n",
       "      <td>dance pop</td>\n",
       "      <td>2019</td>\n",
       "      <td>114</td>\n",
       "      <td>79</td>\n",
       "      <td>60</td>\n",
       "      <td>-6</td>\n",
       "      <td>42</td>\n",
       "      <td>24</td>\n",
       "      <td>217</td>\n",
       "      <td>1</td>\n",
       "      <td>7</td>\n",
       "      <td>69</td>\n",
       "    </tr>\n",
       "    <tr>\n",
       "      <td>602</td>\n",
       "      <td>Kills You Slowly</td>\n",
       "      <td>The Chainsmokers</td>\n",
       "      <td>electropop</td>\n",
       "      <td>2019</td>\n",
       "      <td>150</td>\n",
       "      <td>44</td>\n",
       "      <td>70</td>\n",
       "      <td>-9</td>\n",
       "      <td>13</td>\n",
       "      <td>23</td>\n",
       "      <td>213</td>\n",
       "      <td>6</td>\n",
       "      <td>6</td>\n",
       "      <td>67</td>\n",
       "    </tr>\n",
       "  </tbody>\n",
       "</table>\n",
       "<p>603 rows × 14 columns</p>\n",
       "</div>"
      ],
      "text/plain": [
       "                                                 title            artist  \\\n",
       "0                                     Hey, Soul Sister             Train   \n",
       "1                                 Love The Way You Lie            Eminem   \n",
       "2                                              TiK ToK             Kesha   \n",
       "3                                          Bad Romance         Lady Gaga   \n",
       "4                                 Just the Way You Are        Bruno Mars   \n",
       "..                                                 ...               ...   \n",
       "598                Find U Again (feat. Camila Cabello)       Mark Ronson   \n",
       "599      Cross Me (feat. Chance the Rapper & PnB Rock)        Ed Sheeran   \n",
       "600  No Brainer (feat. Justin Bieber, Chance the Ra...         DJ Khaled   \n",
       "601    Nothing Breaks Like a Heart (feat. Miley Cyrus)       Mark Ronson   \n",
       "602                                   Kills You Slowly  The Chainsmokers   \n",
       "\n",
       "           top genre  year  bpm  nrgy  dnce  dB  live  val  dur  acous  spch  \\\n",
       "0         neo mellow  2010   97    89    67  -4     8   80  217     19     4   \n",
       "1    detroit hip hop  2010   87    93    75  -5    52   64  263     24    23   \n",
       "2          dance pop  2010  120    84    76  -3    29   71  200     10    14   \n",
       "3          dance pop  2010  119    92    70  -4     8   71  295      0     4   \n",
       "4                pop  2010  109    84    64  -5     9   43  221      2     4   \n",
       "..               ...   ...  ...   ...   ...  ..   ...  ...  ...    ...   ...   \n",
       "598        dance pop  2019  104    66    61  -7    20   16  176      1     3   \n",
       "599              pop  2019   95    79    75  -6     7   61  206     21    12   \n",
       "600        dance pop  2019  136    76    53  -5     9   65  260      7    34   \n",
       "601        dance pop  2019  114    79    60  -6    42   24  217      1     7   \n",
       "602       electropop  2019  150    44    70  -9    13   23  213      6     6   \n",
       "\n",
       "     pop  \n",
       "0     83  \n",
       "1     82  \n",
       "2     80  \n",
       "3     79  \n",
       "4     78  \n",
       "..   ...  \n",
       "598   75  \n",
       "599   75  \n",
       "600   70  \n",
       "601   69  \n",
       "602   67  \n",
       "\n",
       "[603 rows x 14 columns]"
      ]
     },
     "execution_count": 7,
     "metadata": {},
     "output_type": "execute_result"
    }
   ],
   "source": [
    "df = pd.read_csv(\"top10s.csv\", encoding = 'unicode_escape') #We used this in Homework 5; helps fix \"UnicodeDecodeError: 'utf-8' codec can't decode byte 0x92 in position 8: invalid start byte\"\n",
    "\n",
    "del df['Unnamed: 0']\n",
    "\n",
    "df"
   ]
  },
  {
   "cell_type": "code",
   "execution_count": 4,
   "metadata": {},
   "outputs": [
    {
     "data": {
      "text/html": [
       "<div>\n",
       "<style scoped>\n",
       "    .dataframe tbody tr th:only-of-type {\n",
       "        vertical-align: middle;\n",
       "    }\n",
       "\n",
       "    .dataframe tbody tr th {\n",
       "        vertical-align: top;\n",
       "    }\n",
       "\n",
       "    .dataframe thead th {\n",
       "        text-align: right;\n",
       "    }\n",
       "</style>\n",
       "<table border=\"1\" class=\"dataframe\">\n",
       "  <thead>\n",
       "    <tr style=\"text-align: right;\">\n",
       "      <th></th>\n",
       "      <th>top genre</th>\n",
       "      <th>nrgy</th>\n",
       "      <th>num</th>\n",
       "    </tr>\n",
       "  </thead>\n",
       "  <tbody>\n",
       "    <tr>\n",
       "      <th>25</th>\n",
       "      <td>dance pop</td>\n",
       "      <td>[84, 92, 78, 76, 87, 82, 83, 84, 61, 81, 80, 6...</td>\n",
       "      <td>327</td>\n",
       "    </tr>\n",
       "    <tr>\n",
       "      <th>48</th>\n",
       "      <td>pop</td>\n",
       "      <td>[84, 83, 81, 84, 76, 56, 83, 70, 75, 47, 68, 8...</td>\n",
       "      <td>60</td>\n",
       "    </tr>\n",
       "    <tr>\n",
       "      <th>18</th>\n",
       "      <td>canadian pop</td>\n",
       "      <td>[86, 93, 58, 84, 55, 96, 52, 38, 76, 57, 75, 8...</td>\n",
       "      <td>34</td>\n",
       "    </tr>\n",
       "    <tr>\n",
       "      <th>12</th>\n",
       "      <td>boy band</td>\n",
       "      <td>[79, 85, 66, 88, 93, 82, 94, 98, 95, 52, 82, 7...</td>\n",
       "      <td>15</td>\n",
       "    </tr>\n",
       "    <tr>\n",
       "      <th>8</th>\n",
       "      <td>barbadian pop</td>\n",
       "      <td>[72, 75, 79, 77, 91, 81, 85, 71, 72, 74, 27, 7...</td>\n",
       "      <td>15</td>\n",
       "    </tr>\n",
       "  </tbody>\n",
       "</table>\n",
       "</div>"
      ],
      "text/plain": [
       "        top genre                                               nrgy  num\n",
       "25      dance pop  [84, 92, 78, 76, 87, 82, 83, 84, 61, 81, 80, 6...  327\n",
       "48            pop  [84, 83, 81, 84, 76, 56, 83, 70, 75, 47, 68, 8...   60\n",
       "18   canadian pop  [86, 93, 58, 84, 55, 96, 52, 38, 76, 57, 75, 8...   34\n",
       "12       boy band  [79, 85, 66, 88, 93, 82, 94, 98, 95, 52, 82, 7...   15\n",
       "8   barbadian pop  [72, 75, 79, 77, 91, 81, 85, 71, 72, 74, 27, 7...   15"
      ]
     },
     "execution_count": 4,
     "metadata": {},
     "output_type": "execute_result"
    }
   ],
   "source": [
    "# set(df['top genre'])\n",
    "\n",
    "# df2 = df[['top genre','bpm']]\n",
    "\n",
    "# groups = df2.groupby(df2['top genre'])\n",
    "\n",
    "# groups.head()\n",
    "\n",
    "baskets = df.groupby('top genre')['nrgy'].apply(list).reset_index(name='nrgy')\n",
    "\n",
    "arr = []\n",
    "for index, row in baskets.iterrows():\n",
    "    arr.append(len(row['nrgy']))\n",
    "\n",
    "baskets['num'] = arr\n",
    "\n",
    "\n",
    "baskets.sort_values(by = ['num'], inplace=True, ascending = False)\n",
    "\n",
    "baskets.head()\n"
   ]
  },
  {
   "cell_type": "code",
   "execution_count": 5,
   "metadata": {},
   "outputs": [
    {
     "data": {
      "text/html": [
       "<div>\n",
       "<style scoped>\n",
       "    .dataframe tbody tr th:only-of-type {\n",
       "        vertical-align: middle;\n",
       "    }\n",
       "\n",
       "    .dataframe tbody tr th {\n",
       "        vertical-align: top;\n",
       "    }\n",
       "\n",
       "    .dataframe thead th {\n",
       "        text-align: right;\n",
       "    }\n",
       "</style>\n",
       "<table border=\"1\" class=\"dataframe\">\n",
       "  <thead>\n",
       "    <tr style=\"text-align: right;\">\n",
       "      <th></th>\n",
       "      <th>top genre</th>\n",
       "      <th>bpm</th>\n",
       "      <th>num</th>\n",
       "    </tr>\n",
       "  </thead>\n",
       "  <tbody>\n",
       "    <tr>\n",
       "      <th>25</th>\n",
       "      <td>dance pop</td>\n",
       "      <td>[120, 119, 120, 148, 128, 130, 122, 125, 121, ...</td>\n",
       "      <td>327</td>\n",
       "    </tr>\n",
       "    <tr>\n",
       "      <th>48</th>\n",
       "      <td>pop</td>\n",
       "      <td>[109, 145, 103, 109, 128, 110, 145, 144, 110, ...</td>\n",
       "      <td>60</td>\n",
       "    </tr>\n",
       "    <tr>\n",
       "      <th>18</th>\n",
       "      <td>canadian pop</td>\n",
       "      <td>[65, 150, 120, 128, 97, 184, 105, 100, 100, 12...</td>\n",
       "      <td>34</td>\n",
       "    </tr>\n",
       "    <tr>\n",
       "      <th>12</th>\n",
       "      <td>boy band</td>\n",
       "      <td>[125, 127, 121, 118, 90, 126, 104, 148, 160, 1...</td>\n",
       "      <td>15</td>\n",
       "    </tr>\n",
       "    <tr>\n",
       "      <th>8</th>\n",
       "      <td>barbadian pop</td>\n",
       "      <td>[126, 182, 100, 128, 80, 128, 128, 92, 127, 13...</td>\n",
       "      <td>15</td>\n",
       "    </tr>\n",
       "  </tbody>\n",
       "</table>\n",
       "</div>"
      ],
      "text/plain": [
       "        top genre                                                bpm  num\n",
       "25      dance pop  [120, 119, 120, 148, 128, 130, 122, 125, 121, ...  327\n",
       "48            pop  [109, 145, 103, 109, 128, 110, 145, 144, 110, ...   60\n",
       "18   canadian pop  [65, 150, 120, 128, 97, 184, 105, 100, 100, 12...   34\n",
       "12       boy band  [125, 127, 121, 118, 90, 126, 104, 148, 160, 1...   15\n",
       "8   barbadian pop  [126, 182, 100, 128, 80, 128, 128, 92, 127, 13...   15"
      ]
     },
     "execution_count": 5,
     "metadata": {},
     "output_type": "execute_result"
    }
   ],
   "source": [
    "baskets1 = df.groupby('top genre')['bpm'].apply(list).reset_index(name='bpm')\n",
    "\n",
    "arr1 = []\n",
    "for index, row in baskets1.iterrows():\n",
    "    arr1.append(len(row['bpm']))\n",
    "\n",
    "baskets1['num'] = arr1\n",
    "\n",
    "\n",
    "baskets1.sort_values(by = ['num'], inplace=True, ascending = False)\n",
    "\n",
    "baskets1.head()"
   ]
  },
  {
   "cell_type": "code",
   "execution_count": 6,
   "metadata": {},
   "outputs": [
    {
     "data": {
      "text/html": [
       "<div>\n",
       "<style scoped>\n",
       "    .dataframe tbody tr th:only-of-type {\n",
       "        vertical-align: middle;\n",
       "    }\n",
       "\n",
       "    .dataframe tbody tr th {\n",
       "        vertical-align: top;\n",
       "    }\n",
       "\n",
       "    .dataframe thead th {\n",
       "        text-align: right;\n",
       "    }\n",
       "</style>\n",
       "<table border=\"1\" class=\"dataframe\">\n",
       "  <thead>\n",
       "    <tr style=\"text-align: right;\">\n",
       "      <th></th>\n",
       "      <th>top genre</th>\n",
       "      <th>dnce</th>\n",
       "      <th>num</th>\n",
       "    </tr>\n",
       "  </thead>\n",
       "  <tbody>\n",
       "    <tr>\n",
       "      <th>25</th>\n",
       "      <td>dance pop</td>\n",
       "      <td>[76, 70, 75, 52, 62, 77, 83, 44, 72, 82, 63, 8...</td>\n",
       "      <td>327</td>\n",
       "    </tr>\n",
       "    <tr>\n",
       "      <th>48</th>\n",
       "      <td>pop</td>\n",
       "      <td>[64, 62, 70, 64, 72, 71, 62, 73, 74, 62, 63, 7...</td>\n",
       "      <td>60</td>\n",
       "    </tr>\n",
       "    <tr>\n",
       "      <th>18</th>\n",
       "      <td>canadian pop</td>\n",
       "      <td>[73, 58, 78, 60, 72, 47, 56, 61, 65, 85, 75, 5...</td>\n",
       "      <td>34</td>\n",
       "    </tr>\n",
       "    <tr>\n",
       "      <th>12</th>\n",
       "      <td>boy band</td>\n",
       "      <td>[73, 72, 60, 65, 63, 56, 55, 68, 49, 67, 65, 4...</td>\n",
       "      <td>15</td>\n",
       "    </tr>\n",
       "    <tr>\n",
       "      <th>8</th>\n",
       "      <td>barbadian pop</td>\n",
       "      <td>[79, 31, 69, 73, 58, 82, 72, 56, 70, 53, 58, 3...</td>\n",
       "      <td>15</td>\n",
       "    </tr>\n",
       "  </tbody>\n",
       "</table>\n",
       "</div>"
      ],
      "text/plain": [
       "        top genre                                               dnce  num\n",
       "25      dance pop  [76, 70, 75, 52, 62, 77, 83, 44, 72, 82, 63, 8...  327\n",
       "48            pop  [64, 62, 70, 64, 72, 71, 62, 73, 74, 62, 63, 7...   60\n",
       "18   canadian pop  [73, 58, 78, 60, 72, 47, 56, 61, 65, 85, 75, 5...   34\n",
       "12       boy band  [73, 72, 60, 65, 63, 56, 55, 68, 49, 67, 65, 4...   15\n",
       "8   barbadian pop  [79, 31, 69, 73, 58, 82, 72, 56, 70, 53, 58, 3...   15"
      ]
     },
     "execution_count": 6,
     "metadata": {},
     "output_type": "execute_result"
    }
   ],
   "source": [
    "baskets2 = df.groupby('top genre')['dnce'].apply(list).reset_index(name='dnce')\n",
    "\n",
    "arr2 = []\n",
    "for index, row in baskets2.iterrows():\n",
    "    arr2.append(len(row['dnce']))\n",
    "\n",
    "baskets2['num'] = arr2\n",
    "\n",
    "\n",
    "baskets2.sort_values(by = ['num'], inplace=True, ascending = False)\n",
    "\n",
    "baskets2.head()"
   ]
  },
  {
   "cell_type": "code",
   "execution_count": 7,
   "metadata": {},
   "outputs": [
    {
     "data": {
      "image/png": "[encoded data removed]",
      "text/plain": [
       "<Figure size 432x288 with 1 Axes>"
      ]
     },
     "metadata": {
      "needs_background": "light"
     },
     "output_type": "display_data"
    }
   ],
   "source": [
    "y = baskets.loc[baskets['top genre'] == 'british soul']['nrgy']\n",
    "\n",
    "yNew = []\n",
    "for i in y:\n",
    "    yNew.append(i)\n",
    "\n",
    "yNew = yNew[0]\n",
    "\n",
    "x = np.linspace(0, len(yNew), len(yNew))\n",
    "\n",
    "##################################################################################################################################\n",
    "\n",
    "z = baskets.loc[baskets['top genre'] == 'boy band']['nrgy']\n",
    "\n",
    "zNew = []\n",
    "for i in z:\n",
    "    zNew.append(i)\n",
    "\n",
    "zNew = zNew[0]\n",
    "\n",
    "x2 = np.linspace(100 + len(yNew), 100 + len(yNew) + len(zNew), len(zNew))\n",
    "\n",
    "# print(x)\n",
    "\n",
    "plt.scatter(x2, zNew)\n",
    "plt.scatter(x, yNew)\n",
    "plt.show()"
   ]
  },
  {
   "cell_type": "code",
   "execution_count": 8,
   "metadata": {},
   "outputs": [
    {
     "data": {
      "image/png": "[encoded data removed]",
      "text/plain": [
       "<Figure size 432x288 with 1 Axes>"
      ]
     },
     "metadata": {
      "needs_background": "light"
     },
     "output_type": "display_data"
    }
   ],
   "source": [
    "y = baskets1.loc[baskets1['top genre'] == 'british soul']['bpm']\n",
    "\n",
    "yNew = []\n",
    "for i in y:\n",
    "    yNew.append(i)\n",
    "\n",
    "yNew = yNew[0]\n",
    "\n",
    "x = np.linspace(0, len(yNew), len(yNew))\n",
    "\n",
    "##################################################################################################################################\n",
    "\n",
    "z = baskets1.loc[baskets1['top genre'] == 'boy band']['bpm']\n",
    "\n",
    "zNew = []\n",
    "for i in z:\n",
    "    zNew.append(i)\n",
    "\n",
    "zNew = zNew[0]\n",
    "\n",
    "x2 = np.linspace(100 + len(yNew), 100 + len(yNew) + len(zNew), len(zNew))\n",
    "\n",
    "# print(x)\n",
    "\n",
    "plt.scatter(x2, zNew)\n",
    "plt.scatter(x, yNew)\n",
    "plt.show()"
   ]
  },
  {
   "cell_type": "code",
   "execution_count": 9,
   "metadata": {},
   "outputs": [
    {
     "data": {
      "image/png": "[encoded data removed]",
      "text/plain": [
       "<Figure size 432x288 with 1 Axes>"
      ]
     },
     "metadata": {
      "needs_background": "light"
     },
     "output_type": "display_data"
    }
   ],
   "source": [
    "y = baskets2.loc[baskets2['top genre'] == 'british soul']['dnce']\n",
    "\n",
    "yNew = []\n",
    "for i in y:\n",
    "    yNew.append(i)\n",
    "\n",
    "yNew = yNew[0]\n",
    "\n",
    "x = np.linspace(0, len(yNew), len(yNew))\n",
    "\n",
    "##################################################################################################################################\n",
    "\n",
    "z = baskets2.loc[baskets2['top genre'] == 'boy band']['dnce']\n",
    "\n",
    "zNew = []\n",
    "for i in z:\n",
    "    zNew.append(i)\n",
    "\n",
    "zNew = zNew[0]\n",
    "\n",
    "x2 = np.linspace(100 + len(yNew), 100 + len(yNew) + len(zNew), len(zNew))\n",
    "\n",
    "# print(x)\n",
    "\n",
    "plt.scatter(x2, zNew)\n",
    "plt.scatter(x, yNew)\n",
    "plt.show()"
   ]
  },
  {
   "cell_type": "markdown",
   "metadata": {},
   "source": [
    "In our plots when comparing the genres of \"british soul\" and \"boy band\", we can see that the categories of danceability and energy varied more for British Soul, while they had similar distributions for beats per minute. In testing our sample rating against a weak version of the reccomender system model, we found that high energy was favored more than the genre and danceability for this arbitrary user. From here we plan on advancing our model by using a larger and more generalizable sample, comparing against more features, and reccomending new songs based on the analysis of those features."
   ]
  },
  {
   "cell_type": "code",
   "execution_count": 10,
   "metadata": {},
   "outputs": [
    {
     "data": {
      "text/html": [
       "<div>\n",
       "<style scoped>\n",
       "    .dataframe tbody tr th:only-of-type {\n",
       "        vertical-align: middle;\n",
       "    }\n",
       "\n",
       "    .dataframe tbody tr th {\n",
       "        vertical-align: top;\n",
       "    }\n",
       "\n",
       "    .dataframe thead th {\n",
       "        text-align: right;\n",
       "    }\n",
       "</style>\n",
       "<table border=\"1\" class=\"dataframe\">\n",
       "  <thead>\n",
       "    <tr style=\"text-align: right;\">\n",
       "      <th></th>\n",
       "      <th>top genre</th>\n",
       "      <th>danceability means</th>\n",
       "    </tr>\n",
       "  </thead>\n",
       "  <tbody>\n",
       "    <tr>\n",
       "      <th>0</th>\n",
       "      <td>acoustic pop</td>\n",
       "      <td>42.500</td>\n",
       "    </tr>\n",
       "    <tr>\n",
       "      <th>1</th>\n",
       "      <td>alaska indie</td>\n",
       "      <td>51.000</td>\n",
       "    </tr>\n",
       "    <tr>\n",
       "      <th>2</th>\n",
       "      <td>alternative r&amp;b</td>\n",
       "      <td>90.000</td>\n",
       "    </tr>\n",
       "    <tr>\n",
       "      <th>3</th>\n",
       "      <td>art pop</td>\n",
       "      <td>52.375</td>\n",
       "    </tr>\n",
       "    <tr>\n",
       "      <th>4</th>\n",
       "      <td>atl hip hop</td>\n",
       "      <td>59.800</td>\n",
       "    </tr>\n",
       "  </tbody>\n",
       "</table>\n",
       "</div>"
      ],
      "text/plain": [
       "         top genre  danceability means\n",
       "0     acoustic pop              42.500\n",
       "1     alaska indie              51.000\n",
       "2  alternative r&b              90.000\n",
       "3          art pop              52.375\n",
       "4      atl hip hop              59.800"
      ]
     },
     "execution_count": 10,
     "metadata": {},
     "output_type": "execute_result"
    }
   ],
   "source": [
    "dance_means = df.groupby('top genre')['dnce'].mean().reset_index(name='danceability means')\n",
    "\n",
    "dance_means.head()"
   ]
  },
  {
   "cell_type": "code",
   "execution_count": 11,
   "metadata": {},
   "outputs": [
    {
     "data": {
      "text/html": [
       "<div>\n",
       "<style scoped>\n",
       "    .dataframe tbody tr th:only-of-type {\n",
       "        vertical-align: middle;\n",
       "    }\n",
       "\n",
       "    .dataframe tbody tr th {\n",
       "        vertical-align: top;\n",
       "    }\n",
       "\n",
       "    .dataframe thead th {\n",
       "        text-align: right;\n",
       "    }\n",
       "</style>\n",
       "<table border=\"1\" class=\"dataframe\">\n",
       "  <thead>\n",
       "    <tr style=\"text-align: right;\">\n",
       "      <th></th>\n",
       "      <th>top genre</th>\n",
       "      <th>bpm means</th>\n",
       "    </tr>\n",
       "  </thead>\n",
       "  <tbody>\n",
       "    <tr>\n",
       "      <th>0</th>\n",
       "      <td>acoustic pop</td>\n",
       "      <td>155.000</td>\n",
       "    </tr>\n",
       "    <tr>\n",
       "      <th>1</th>\n",
       "      <td>alaska indie</td>\n",
       "      <td>132.000</td>\n",
       "    </tr>\n",
       "    <tr>\n",
       "      <th>2</th>\n",
       "      <td>alternative r&amp;b</td>\n",
       "      <td>136.000</td>\n",
       "    </tr>\n",
       "    <tr>\n",
       "      <th>3</th>\n",
       "      <td>art pop</td>\n",
       "      <td>115.125</td>\n",
       "    </tr>\n",
       "    <tr>\n",
       "      <th>4</th>\n",
       "      <td>atl hip hop</td>\n",
       "      <td>102.800</td>\n",
       "    </tr>\n",
       "  </tbody>\n",
       "</table>\n",
       "</div>"
      ],
      "text/plain": [
       "         top genre  bpm means\n",
       "0     acoustic pop    155.000\n",
       "1     alaska indie    132.000\n",
       "2  alternative r&b    136.000\n",
       "3          art pop    115.125\n",
       "4      atl hip hop    102.800"
      ]
     },
     "execution_count": 11,
     "metadata": {},
     "output_type": "execute_result"
    }
   ],
   "source": [
    "bpm_means = df.groupby('top genre')['bpm'].mean().reset_index(name='bpm means')\n",
    "\n",
    "bpm_means.head()"
   ]
  },
  {
   "cell_type": "code",
   "execution_count": 12,
   "metadata": {},
   "outputs": [
    {
     "data": {
      "text/html": [
       "<div>\n",
       "<style scoped>\n",
       "    .dataframe tbody tr th:only-of-type {\n",
       "        vertical-align: middle;\n",
       "    }\n",
       "\n",
       "    .dataframe tbody tr th {\n",
       "        vertical-align: top;\n",
       "    }\n",
       "\n",
       "    .dataframe thead th {\n",
       "        text-align: right;\n",
       "    }\n",
       "</style>\n",
       "<table border=\"1\" class=\"dataframe\">\n",
       "  <thead>\n",
       "    <tr style=\"text-align: right;\">\n",
       "      <th></th>\n",
       "      <th>top genre</th>\n",
       "      <th>energy means</th>\n",
       "    </tr>\n",
       "  </thead>\n",
       "  <tbody>\n",
       "    <tr>\n",
       "      <th>0</th>\n",
       "      <td>acoustic pop</td>\n",
       "      <td>61.000</td>\n",
       "    </tr>\n",
       "    <tr>\n",
       "      <th>1</th>\n",
       "      <td>alaska indie</td>\n",
       "      <td>34.000</td>\n",
       "    </tr>\n",
       "    <tr>\n",
       "      <th>2</th>\n",
       "      <td>alternative r&amp;b</td>\n",
       "      <td>40.000</td>\n",
       "    </tr>\n",
       "    <tr>\n",
       "      <th>3</th>\n",
       "      <td>art pop</td>\n",
       "      <td>60.125</td>\n",
       "    </tr>\n",
       "    <tr>\n",
       "      <th>4</th>\n",
       "      <td>atl hip hop</td>\n",
       "      <td>82.200</td>\n",
       "    </tr>\n",
       "  </tbody>\n",
       "</table>\n",
       "</div>"
      ],
      "text/plain": [
       "         top genre  energy means\n",
       "0     acoustic pop        61.000\n",
       "1     alaska indie        34.000\n",
       "2  alternative r&b        40.000\n",
       "3          art pop        60.125\n",
       "4      atl hip hop        82.200"
      ]
     },
     "execution_count": 12,
     "metadata": {},
     "output_type": "execute_result"
    }
   ],
   "source": [
    "energy_means = df.groupby('top genre')['nrgy'].mean().reset_index(name='energy means')\n",
    "\n",
    "energy_means.head()"
   ]
  },
  {
   "cell_type": "code",
   "execution_count": 13,
   "metadata": {},
   "outputs": [
    {
     "data": {
      "text/html": [
       "<div>\n",
       "<style scoped>\n",
       "    .dataframe tbody tr th:only-of-type {\n",
       "        vertical-align: middle;\n",
       "    }\n",
       "\n",
       "    .dataframe tbody tr th {\n",
       "        vertical-align: top;\n",
       "    }\n",
       "\n",
       "    .dataframe thead th {\n",
       "        text-align: right;\n",
       "    }\n",
       "</style>\n",
       "<table border=\"1\" class=\"dataframe\">\n",
       "  <thead>\n",
       "    <tr style=\"text-align: right;\">\n",
       "      <th></th>\n",
       "      <th>title</th>\n",
       "      <th>artist</th>\n",
       "      <th>top genre</th>\n",
       "      <th>nrgy</th>\n",
       "      <th>dnce</th>\n",
       "    </tr>\n",
       "  </thead>\n",
       "  <tbody>\n",
       "    <tr>\n",
       "      <th>2</th>\n",
       "      <td>TiK ToK</td>\n",
       "      <td>Kesha</td>\n",
       "      <td>dance pop</td>\n",
       "      <td>84</td>\n",
       "      <td>76</td>\n",
       "    </tr>\n",
       "    <tr>\n",
       "      <th>195</th>\n",
       "      <td>Applause</td>\n",
       "      <td>Lady Gaga</td>\n",
       "      <td>dance pop</td>\n",
       "      <td>78</td>\n",
       "      <td>67</td>\n",
       "    </tr>\n",
       "    <tr>\n",
       "      <th>592</th>\n",
       "      <td>Girls Like You (feat. Cardi B)</td>\n",
       "      <td>Maroon 5</td>\n",
       "      <td>pop</td>\n",
       "      <td>54</td>\n",
       "      <td>85</td>\n",
       "    </tr>\n",
       "    <tr>\n",
       "      <th>443</th>\n",
       "      <td>Shape of You</td>\n",
       "      <td>Ed Sheeran</td>\n",
       "      <td>pop</td>\n",
       "      <td>65</td>\n",
       "      <td>83</td>\n",
       "    </tr>\n",
       "    <tr>\n",
       "      <th>270</th>\n",
       "      <td>The Hills</td>\n",
       "      <td>The Weeknd</td>\n",
       "      <td>canadian contemporary r&amp;b</td>\n",
       "      <td>56</td>\n",
       "      <td>58</td>\n",
       "    </tr>\n",
       "  </tbody>\n",
       "</table>\n",
       "</div>"
      ],
      "text/plain": [
       "                              title      artist                  top genre  \\\n",
       "2                           TiK ToK       Kesha                  dance pop   \n",
       "195                        Applause   Lady Gaga                  dance pop   \n",
       "592  Girls Like You (feat. Cardi B)    Maroon 5                        pop   \n",
       "443                    Shape of You  Ed Sheeran                        pop   \n",
       "270                       The Hills  The Weeknd  canadian contemporary r&b   \n",
       "\n",
       "     nrgy  dnce  \n",
       "2      84    76  \n",
       "195    78    67  \n",
       "592    54    85  \n",
       "443    65    83  \n",
       "270    56    58  "
      ]
     },
     "execution_count": 13,
     "metadata": {},
     "output_type": "execute_result"
    }
   ],
   "source": [
    "# dfR = df.loc[df[\"title\"] == \"Applause\"]\n",
    "dfR = df.loc[df[\"title\"] == \"TiK ToK\"]\n",
    "dfM = df.loc[df[\"title\"] == \"Applause\"]\n",
    "dfV = df.loc[df[\"title\"] == \"Shape of You\"]\n",
    "dfS = df.loc[df[\"title\"] == \"Girls Like You (feat. Cardi B)\"]\n",
    "dfH = df.loc[df[\"title\"] == \"The Hills\"]\n",
    "dff = [dfR, dfM, dfS, dfV, dfH]\n",
    "\n",
    "dfg = pd.concat(dff)\n",
    "dfg.drop(dfg.tail(1).index,inplace=True)\n",
    "dfg\n",
    "result = dfg[[\"title\", \"artist\", \"top genre\", \"nrgy\", \"dnce\"]]\n",
    "result\n",
    "\n"
   ]
  },
  {
   "cell_type": "code",
   "execution_count": 45,
   "metadata": {},
   "outputs": [
    {
     "name": "stdout",
     "output_type": "stream",
     "text": [
      "low bpm, medium bpm, high bpm\n",
      "[[0. 7. 0.]\n",
      " [0. 0. 9.]\n",
      " [3. 0. 0.]\n",
      " [0. 2. 0.]\n",
      " [0. 5. 0.]]\n"
     ]
    }
   ],
   "source": [
    "bpm_min = df.groupby('top genre')['bpm'].min().reset_index(name='bpm min')\n",
    "bpm_max = df.groupby('top genre')['bpm'].max().reset_index(name='bpm max')\n",
    "\n",
    "# for index, row in bpm_min.iterrows():\n",
    "\n",
    "max_value = bpm_max['bpm max'].max()\n",
    "print(\"low bpm, medium bpm, high bpm\")\n",
    "\n",
    "titles = [\"TiK ToK\", \"Applause\", \"Shape of You\", \"Girls Like You (feat. Cardi B)\", \"The Hills\"]\n",
    "ratings = [7, 9, 3, 2, 5]\n",
    "\n",
    "bpm_pref = np.zeros((len(titles), 3))\n",
    "for i in range(len(titles)):\n",
    "    beats = df.loc[df[\"title\"] == titles[i]]['bpm'].values[0]    \n",
    "    if beats >= 0 and beats < 100:\n",
    "        bpm_pref[i][0] = ratings[i]\n",
    "    elif beats >= 100 and beats < 140:\n",
    "        bpm_pref[i][1] = ratings[i]\n",
    "    elif beats >= 140 and beats < 207:\n",
    "        bpm_pref[i][2] = ratings[i]\n",
    "        \n",
    "print(bpm_pref)"
   ]
  },
  {
   "cell_type": "code",
   "execution_count": 46,
   "metadata": {},
   "outputs": [
    {
     "name": "stdout",
     "output_type": "stream",
     "text": [
      "     0    1    2\n",
      "0  0.0  7.0  0.0\n",
      "1  0.0  0.0  9.0\n",
      "2  3.0  0.0  0.0\n",
      "3  0.0  2.0  0.0\n",
      "4  0.0  5.0  0.0\n"
     ]
    }
   ],
   "source": [
    "dfB = pd.DataFrame(bpm_pref)\n",
    "print(dfB)"
   ]
  },
  {
   "cell_type": "code",
   "execution_count": 47,
   "metadata": {},
   "outputs": [
    {
     "data": {
      "text/html": [
       "<div>\n",
       "<style scoped>\n",
       "    .dataframe tbody tr th:only-of-type {\n",
       "        vertical-align: middle;\n",
       "    }\n",
       "\n",
       "    .dataframe tbody tr th {\n",
       "        vertical-align: top;\n",
       "    }\n",
       "\n",
       "    .dataframe thead th {\n",
       "        text-align: right;\n",
       "    }\n",
       "</style>\n",
       "<table border=\"1\" class=\"dataframe\">\n",
       "  <thead>\n",
       "    <tr style=\"text-align: right;\">\n",
       "      <th></th>\n",
       "      <th>0</th>\n",
       "      <th>1</th>\n",
       "      <th>2</th>\n",
       "    </tr>\n",
       "  </thead>\n",
       "  <tbody>\n",
       "    <tr>\n",
       "      <th>0</th>\n",
       "      <td>False</td>\n",
       "      <td>True</td>\n",
       "      <td>False</td>\n",
       "    </tr>\n",
       "    <tr>\n",
       "      <th>1</th>\n",
       "      <td>False</td>\n",
       "      <td>False</td>\n",
       "      <td>True</td>\n",
       "    </tr>\n",
       "    <tr>\n",
       "      <th>2</th>\n",
       "      <td>True</td>\n",
       "      <td>False</td>\n",
       "      <td>False</td>\n",
       "    </tr>\n",
       "    <tr>\n",
       "      <th>3</th>\n",
       "      <td>False</td>\n",
       "      <td>True</td>\n",
       "      <td>False</td>\n",
       "    </tr>\n",
       "    <tr>\n",
       "      <th>4</th>\n",
       "      <td>False</td>\n",
       "      <td>True</td>\n",
       "      <td>False</td>\n",
       "    </tr>\n",
       "  </tbody>\n",
       "</table>\n",
       "</div>"
      ],
      "text/plain": [
       "       0      1      2\n",
       "0  False   True  False\n",
       "1  False  False   True\n",
       "2   True  False  False\n",
       "3  False   True  False\n",
       "4  False   True  False"
      ]
     },
     "execution_count": 47,
     "metadata": {},
     "output_type": "execute_result"
    }
   ],
   "source": [
    "np.not_equal(dfB,0)"
   ]
  },
  {
   "cell_type": "code",
   "execution_count": 62,
   "metadata": {},
   "outputs": [
    {
     "name": "stdout",
     "output_type": "stream",
     "text": [
      "     0    1    2\n",
      "0  0.0  1.8  0.0\n",
      "1  0.0  0.0  3.8\n",
      "2 -2.2  0.0  0.0\n",
      "3  0.0 -3.2  0.0\n",
      "4  0.0 -0.2  0.0\n"
     ]
    }
   ],
   "source": [
    "dfB_norm = dfB.copy()\n",
    "avg = np.sum(dfB.replace(0, np.nan).sum())/np.sum(dfB.replace(0, np.nan).count())\n",
    "dfB_norm = dfB_norm.apply(lambda row : row.loc[row != 0] - avg)\n",
    "dfB_norm = dfB_norm.replace(np.nan, 0) # put the 0s back\n",
    "print(dfB_norm)"
   ]
  },
  {
   "cell_type": "code",
   "execution_count": 63,
   "metadata": {},
   "outputs": [
    {
     "name": "stdout",
     "output_type": "stream",
     "text": [
      "[-2.2        -0.53333333  3.8       ]\n"
     ]
    }
   ],
   "source": [
    "Bpreferences = np.array([dfB_norm.loc[dfB_norm.iloc[:,feat] != 0, feat].mean() for feat in range(3)])\n",
    "print(Bpreferences)"
   ]
  },
  {
   "cell_type": "markdown",
   "metadata": {},
   "source": [
    "These samples ratings indicate that the user prefers high bpm and dislikes low bpm.\n",
    "nrgy, dance, dur"
   ]
  },
  {
   "cell_type": "code",
   "execution_count": 58,
   "metadata": {},
   "outputs": [
    {
     "name": "stdout",
     "output_type": "stream",
     "text": [
      "[[0. 7. 0.]\n",
      " [0. 9. 0.]\n",
      " [0. 0. 3.]\n",
      " [0. 0. 2.]\n",
      " [5. 0. 0.]]\n"
     ]
    }
   ],
   "source": [
    "dance_min = df.groupby('top genre')['dnce'].min().reset_index(name='dance min')\n",
    "dance_max = df.groupby('top genre')['dnce'].max().reset_index(name='dance max')\n",
    "\n",
    "max_value = dance_max['dance max'].max()\n",
    "min_value = dance_min['dance min'].min()\n",
    "\n",
    "titles = [\"TiK ToK\", \"Applause\", \"Shape of You\", \"Girls Like You (feat. Cardi B)\", \"The Hills\"]\n",
    "ratings = [7, 9, 3, 2, 5]\n",
    "\n",
    "dance_pref = np.zeros((len(titles), 3))\n",
    "for i in range(len(titles)):\n",
    "    dances = df.loc[df[\"title\"] == titles[i]]['dnce'].values[0]    \n",
    "    if dances >= 0 and dances < 61:\n",
    "        dance_pref[i][0] = ratings[i]\n",
    "    elif dances >= 62 and dances < 78:\n",
    "        dance_pref[i][1] = ratings[i]\n",
    "    elif dances >= 79 and dances < 98:\n",
    "        dance_pref[i][2] = ratings[i]\n",
    "        \n",
    "print(dance_pref)"
   ]
  },
  {
   "cell_type": "code",
   "execution_count": 59,
   "metadata": {},
   "outputs": [
    {
     "name": "stdout",
     "output_type": "stream",
     "text": [
      "     0    1    2\n",
      "0  0.0  7.0  0.0\n",
      "1  0.0  9.0  0.0\n",
      "2  0.0  0.0  3.0\n",
      "3  0.0  0.0  2.0\n",
      "4  5.0  0.0  0.0\n"
     ]
    }
   ],
   "source": [
    "dfD = pd.DataFrame(dance_pref)\n",
    "print(dfD)"
   ]
  },
  {
   "cell_type": "code",
   "execution_count": 61,
   "metadata": {},
   "outputs": [
    {
     "data": {
      "text/html": [
       "<div>\n",
       "<style scoped>\n",
       "    .dataframe tbody tr th:only-of-type {\n",
       "        vertical-align: middle;\n",
       "    }\n",
       "\n",
       "    .dataframe tbody tr th {\n",
       "        vertical-align: top;\n",
       "    }\n",
       "\n",
       "    .dataframe thead th {\n",
       "        text-align: right;\n",
       "    }\n",
       "</style>\n",
       "<table border=\"1\" class=\"dataframe\">\n",
       "  <thead>\n",
       "    <tr style=\"text-align: right;\">\n",
       "      <th></th>\n",
       "      <th>0</th>\n",
       "      <th>1</th>\n",
       "      <th>2</th>\n",
       "    </tr>\n",
       "  </thead>\n",
       "  <tbody>\n",
       "    <tr>\n",
       "      <th>0</th>\n",
       "      <td>False</td>\n",
       "      <td>True</td>\n",
       "      <td>False</td>\n",
       "    </tr>\n",
       "    <tr>\n",
       "      <th>1</th>\n",
       "      <td>False</td>\n",
       "      <td>True</td>\n",
       "      <td>False</td>\n",
       "    </tr>\n",
       "    <tr>\n",
       "      <th>2</th>\n",
       "      <td>False</td>\n",
       "      <td>False</td>\n",
       "      <td>True</td>\n",
       "    </tr>\n",
       "    <tr>\n",
       "      <th>3</th>\n",
       "      <td>False</td>\n",
       "      <td>False</td>\n",
       "      <td>True</td>\n",
       "    </tr>\n",
       "    <tr>\n",
       "      <th>4</th>\n",
       "      <td>True</td>\n",
       "      <td>False</td>\n",
       "      <td>False</td>\n",
       "    </tr>\n",
       "  </tbody>\n",
       "</table>\n",
       "</div>"
      ],
      "text/plain": [
       "       0      1      2\n",
       "0  False   True  False\n",
       "1  False   True  False\n",
       "2  False  False   True\n",
       "3  False  False   True\n",
       "4   True  False  False"
      ]
     },
     "execution_count": 61,
     "metadata": {},
     "output_type": "execute_result"
    }
   ],
   "source": [
    "np.not_equal(dfD,0)"
   ]
  },
  {
   "cell_type": "code",
   "execution_count": 64,
   "metadata": {},
   "outputs": [
    {
     "name": "stdout",
     "output_type": "stream",
     "text": [
      "     0    1    2\n",
      "0  0.0  1.8  0.0\n",
      "1  0.0  3.8  0.0\n",
      "2  0.0  0.0 -2.2\n",
      "3  0.0  0.0 -3.2\n",
      "4 -0.2  0.0  0.0\n"
     ]
    }
   ],
   "source": [
    "dfD_norm = dfD.copy()\n",
    "avg = np.sum(dfD.replace(0, np.nan).sum())/np.sum(dfD.replace(0, np.nan).count())\n",
    "dfD_norm = dfD_norm.apply(lambda row : row.loc[row != 0] - avg)\n",
    "dfD_norm = dfD_norm.replace(np.nan, 0) # put the 0s back\n",
    "print(dfD_norm)"
   ]
  },
  {
   "cell_type": "code",
   "execution_count": 65,
   "metadata": {},
   "outputs": [
    {
     "name": "stdout",
     "output_type": "stream",
     "text": [
      "[-0.2  2.8 -2.7]\n"
     ]
    }
   ],
   "source": [
    "Dpreferences = np.array([dfD_norm.loc[dfD_norm.iloc[:,feat] != 0, feat].mean() for feat in range(3)])\n",
    "print(Dpreferences)"
   ]
  },
  {
   "cell_type": "markdown",
   "metadata": {},
   "source": [
    "Favor medium, dislike high, indifferent low"
   ]
  },
  {
   "cell_type": "code",
   "execution_count": 73,
   "metadata": {},
   "outputs": [
    {
     "name": "stdout",
     "output_type": "stream",
     "text": [
      "[[0. 0. 7.]\n",
      " [0. 9. 0.]\n",
      " [0. 3. 0.]\n",
      " [2. 0. 0.]\n",
      " [5. 0. 0.]]\n"
     ]
    }
   ],
   "source": [
    "energy_min = df.groupby('top genre')['nrgy'].min().reset_index(name='nrgy min')\n",
    "energy_max = df.groupby('top genre')['nrgy'].max().reset_index(name='nrgy max')\n",
    "\n",
    "max_value = energy_max['nrgy max'].max()\n",
    "min_value = energy_min['nrgy min'].min()\n",
    "\n",
    "titles = [\"TiK ToK\", \"Applause\", \"Shape of You\", \"Girls Like You (feat. Cardi B)\", \"The Hills\"]\n",
    "ratings = [7, 9, 3, 2, 5]\n",
    "\n",
    "energy_pref = np.zeros((len(titles), 3))\n",
    "for i in range(len(titles)):\n",
    "    energies = df.loc[df[\"title\"] == titles[i]]['nrgy'].values[0]    \n",
    "    if energies >= 0 and energies < 61:\n",
    "        energy_pref[i][0] = ratings[i]\n",
    "    elif energies >= 62 and energies < 82:\n",
    "        energy_pref[i][1] = ratings[i]\n",
    "    elif energies >= 83 and energies < 99:\n",
    "        energy_pref[i][2] = ratings[i]\n",
    "        \n",
    "print(energy_pref)"
   ]
  },
  {
   "cell_type": "code",
   "execution_count": 74,
   "metadata": {},
   "outputs": [
    {
     "name": "stdout",
     "output_type": "stream",
     "text": [
      "     0    1    2\n",
      "0  0.0  0.0  7.0\n",
      "1  0.0  9.0  0.0\n",
      "2  0.0  3.0  0.0\n",
      "3  2.0  0.0  0.0\n",
      "4  5.0  0.0  0.0\n"
     ]
    }
   ],
   "source": [
    "dfE = pd.DataFrame(energy_pref)\n",
    "print(dfE)"
   ]
  },
  {
   "cell_type": "code",
   "execution_count": 75,
   "metadata": {},
   "outputs": [
    {
     "data": {
      "text/html": [
       "<div>\n",
       "<style scoped>\n",
       "    .dataframe tbody tr th:only-of-type {\n",
       "        vertical-align: middle;\n",
       "    }\n",
       "\n",
       "    .dataframe tbody tr th {\n",
       "        vertical-align: top;\n",
       "    }\n",
       "\n",
       "    .dataframe thead th {\n",
       "        text-align: right;\n",
       "    }\n",
       "</style>\n",
       "<table border=\"1\" class=\"dataframe\">\n",
       "  <thead>\n",
       "    <tr style=\"text-align: right;\">\n",
       "      <th></th>\n",
       "      <th>0</th>\n",
       "      <th>1</th>\n",
       "      <th>2</th>\n",
       "    </tr>\n",
       "  </thead>\n",
       "  <tbody>\n",
       "    <tr>\n",
       "      <th>0</th>\n",
       "      <td>False</td>\n",
       "      <td>False</td>\n",
       "      <td>True</td>\n",
       "    </tr>\n",
       "    <tr>\n",
       "      <th>1</th>\n",
       "      <td>False</td>\n",
       "      <td>True</td>\n",
       "      <td>False</td>\n",
       "    </tr>\n",
       "    <tr>\n",
       "      <th>2</th>\n",
       "      <td>False</td>\n",
       "      <td>True</td>\n",
       "      <td>False</td>\n",
       "    </tr>\n",
       "    <tr>\n",
       "      <th>3</th>\n",
       "      <td>True</td>\n",
       "      <td>False</td>\n",
       "      <td>False</td>\n",
       "    </tr>\n",
       "    <tr>\n",
       "      <th>4</th>\n",
       "      <td>True</td>\n",
       "      <td>False</td>\n",
       "      <td>False</td>\n",
       "    </tr>\n",
       "  </tbody>\n",
       "</table>\n",
       "</div>"
      ],
      "text/plain": [
       "       0      1      2\n",
       "0  False  False   True\n",
       "1  False   True  False\n",
       "2  False   True  False\n",
       "3   True  False  False\n",
       "4   True  False  False"
      ]
     },
     "execution_count": 75,
     "metadata": {},
     "output_type": "execute_result"
    }
   ],
   "source": [
    "np.not_equal(dfE,0)"
   ]
  },
  {
   "cell_type": "code",
   "execution_count": 76,
   "metadata": {},
   "outputs": [
    {
     "name": "stdout",
     "output_type": "stream",
     "text": [
      "     0    1    2\n",
      "0  0.0  0.0  1.8\n",
      "1  0.0  3.8  0.0\n",
      "2  0.0 -2.2  0.0\n",
      "3 -3.2  0.0  0.0\n",
      "4 -0.2  0.0  0.0\n"
     ]
    }
   ],
   "source": [
    "dfE_norm = dfE.copy()\n",
    "avg = np.sum(dfE.replace(0, np.nan).sum())/np.sum(dfE.replace(0, np.nan).count())\n",
    "dfE_norm = dfE_norm.apply(lambda row : row.loc[row != 0] - avg)\n",
    "dfE_norm = dfE_norm.replace(np.nan, 0) # put the 0s back\n",
    "print(dfE_norm)"
   ]
  },
  {
   "cell_type": "code",
   "execution_count": 77,
   "metadata": {},
   "outputs": [
    {
     "name": "stdout",
     "output_type": "stream",
     "text": [
      "[-1.7  0.8  1.8]\n"
     ]
    }
   ],
   "source": [
    "Epreferences = np.array([dfE_norm.loc[dfE_norm.iloc[:,feat] != 0, feat].mean() for feat in range(3)])\n",
    "print(Epreferences)"
   ]
  },
  {
   "cell_type": "markdown",
   "metadata": {},
   "source": [
    "Dislikes low energy, likes high energy"
   ]
  },
  {
   "cell_type": "code",
   "execution_count": 97,
   "metadata": {},
   "outputs": [
    {
     "name": "stdout",
     "output_type": "stream",
     "text": [
      "('Party Rock Anthem', 'LMFAO') 0.9057824721082777\n",
      "('Slow Hands', 'Niall Horan') -0.4318491337021222\n",
      "('Hello', 'Adele') 0.1543994091622769\n"
     ]
    }
   ],
   "source": [
    "def mag(x):\n",
    "    return np.sqrt(np.sum(x**2))\n",
    "\n",
    "def cosine_sim(x,y):\n",
    "    return np.sum(x*y)/(mag(x)*mag(y))\n",
    "\n",
    "#feature - bpm\n",
    "# Party Rock Anthem - LMFAO\n",
    "# Slow Hands - Nail Whore\n",
    "# Hello - Adele\n",
    "song1 = (\"Party Rock Anthem\", \"LMFAO\")\n",
    "song2 = (\"Slow Hands\", \"Niall Horan\")\n",
    "song3 = (\"Hello\", \"Adele\")\n",
    "songs = [song1, song2, song3]\n",
    "a = np.zeros((len(songs), 3))\n",
    "b = np.zeros((len(songs), 3))\n",
    "c = np.zeros((len(songs), 3))\n",
    "for i in range(len(songs)):\n",
    "    d = df.loc[df[\"title\"] == songs[i][0]]\n",
    "    bpmRec = d.loc[d[\"artist\"] == songs[i][1]]['bpm'].values[0]\n",
    "    danceRec = d.loc[d[\"artist\"] == songs[i][1]]['dnce'].values[0]\n",
    "    energyRec = d.loc[d[\"artist\"] == songs[i][1]]['nrgy'].values[0]\n",
    "    if bpmRec >= 0 and bpmRec < 100:\n",
    "        a[i][0] = 1\n",
    "    elif bpmRec >= 100 and bpmRec < 140:\n",
    "        a[i][1] = 1\n",
    "    elif bpmRec >= 140 and bpmRec < 207:\n",
    "        a[i][2] = 1\n",
    "    if danceRec >= 0 and danceRec < 61:\n",
    "        b[i][0] = 1\n",
    "    elif danceRec >= 62 and danceRec < 78:\n",
    "        b[i][1] = 1\n",
    "    elif danceRec >= 79 and danceRec < 98:\n",
    "        b[i][2] = 1\n",
    "    if energyRec >= 0 and energyRec < 61:\n",
    "        c[i][0] = 1\n",
    "    elif energyRec >= 62 and energyRec < 82:\n",
    "        c[i][1] = 1\n",
    "    elif energyRec >= 83 and energyRec < 99:\n",
    "        c[i][2] = 1\n",
    "    sim_P_A = cosine_sim(Bpreferences, a[i])\n",
    "    sim_P_B = cosine_sim(Dpreferences, b[i])\n",
    "    sim_P_C = cosine_sim(Epreferences, c[i])\n",
    "    \n",
    "    print(songs[i],sim_P_A + sim_P_B + sim_P_C)"
   ]
  },
  {
   "cell_type": "code",
   "execution_count": 6,
   "metadata": {},
   "outputs": [
    {
     "ename": "ValueError",
     "evalue": "could not convert string to float: 'Hey, Soul Sister'",
     "output_type": "error",
     "traceback": [
      "\u001b[0;31m---------------------------------------------------------------------------\u001b[0m",
      "\u001b[0;31mValueError\u001b[0m                                Traceback (most recent call last)",
      "\u001b[0;32m<ipython-input-6-01c8f46ad957>\u001b[0m in \u001b[0;36m<module>\u001b[0;34m\u001b[0m\n\u001b[0;32m----> 1\u001b[0;31m \u001b[0mpca\u001b[0m \u001b[0;34m=\u001b[0m \u001b[0mPCA\u001b[0m\u001b[0;34m(\u001b[0m\u001b[0;36m2\u001b[0m\u001b[0;34m)\u001b[0m\u001b[0;34m.\u001b[0m\u001b[0mfit_transform\u001b[0m\u001b[0;34m(\u001b[0m\u001b[0mdf\u001b[0m\u001b[0;34m)\u001b[0m\u001b[0;34m\u001b[0m\u001b[0;34m\u001b[0m\u001b[0m\n\u001b[0m\u001b[1;32m      2\u001b[0m \u001b[0mpcaWithVar\u001b[0m \u001b[0;34m=\u001b[0m \u001b[0mPCA\u001b[0m\u001b[0;34m(\u001b[0m\u001b[0;36m2\u001b[0m\u001b[0;34m)\u001b[0m\u001b[0;34m.\u001b[0m\u001b[0mfit_transform\u001b[0m\u001b[0;34m(\u001b[0m\u001b[0mdfVar\u001b[0m\u001b[0;34m)\u001b[0m\u001b[0;34m\u001b[0m\u001b[0;34m\u001b[0m\u001b[0m\n\u001b[1;32m      3\u001b[0m \u001b[0mgenres\u001b[0m \u001b[0;34m=\u001b[0m \u001b[0mdfGenre\u001b[0m\u001b[0;34m.\u001b[0m\u001b[0mto_numpy\u001b[0m\u001b[0;34m(\u001b[0m\u001b[0;34m)\u001b[0m\u001b[0;34m\u001b[0m\u001b[0;34m\u001b[0m\u001b[0m\n\u001b[1;32m      4\u001b[0m \u001b[0;34m\u001b[0m\u001b[0m\n\u001b[1;32m      5\u001b[0m \u001b[0mfig\u001b[0m\u001b[0;34m,\u001b[0m \u001b[0max\u001b[0m \u001b[0;34m=\u001b[0m \u001b[0mplt\u001b[0m\u001b[0;34m.\u001b[0m\u001b[0msubplots\u001b[0m\u001b[0;34m(\u001b[0m\u001b[0;36m1\u001b[0m\u001b[0;34m,\u001b[0m\u001b[0;36m1\u001b[0m\u001b[0;34m,\u001b[0m \u001b[0mfigsize\u001b[0m\u001b[0;34m=\u001b[0m\u001b[0;34m(\u001b[0m\u001b[0;36m15\u001b[0m\u001b[0;34m,\u001b[0m\u001b[0;36m15\u001b[0m\u001b[0;34m)\u001b[0m\u001b[0;34m)\u001b[0m\u001b[0;34m\u001b[0m\u001b[0;34m\u001b[0m\u001b[0m\n",
      "\u001b[0;32m~/opt/anaconda3/lib/python3.7/site-packages/sklearn/decomposition/pca.py\u001b[0m in \u001b[0;36mfit_transform\u001b[0;34m(self, X, y)\u001b[0m\n\u001b[1;32m    358\u001b[0m \u001b[0;34m\u001b[0m\u001b[0m\n\u001b[1;32m    359\u001b[0m         \"\"\"\n\u001b[0;32m--> 360\u001b[0;31m         \u001b[0mU\u001b[0m\u001b[0;34m,\u001b[0m \u001b[0mS\u001b[0m\u001b[0;34m,\u001b[0m \u001b[0mV\u001b[0m \u001b[0;34m=\u001b[0m \u001b[0mself\u001b[0m\u001b[0;34m.\u001b[0m\u001b[0m_fit\u001b[0m\u001b[0;34m(\u001b[0m\u001b[0mX\u001b[0m\u001b[0;34m)\u001b[0m\u001b[0;34m\u001b[0m\u001b[0;34m\u001b[0m\u001b[0m\n\u001b[0m\u001b[1;32m    361\u001b[0m         \u001b[0mU\u001b[0m \u001b[0;34m=\u001b[0m \u001b[0mU\u001b[0m\u001b[0;34m[\u001b[0m\u001b[0;34m:\u001b[0m\u001b[0;34m,\u001b[0m \u001b[0;34m:\u001b[0m\u001b[0mself\u001b[0m\u001b[0;34m.\u001b[0m\u001b[0mn_components_\u001b[0m\u001b[0;34m]\u001b[0m\u001b[0;34m\u001b[0m\u001b[0;34m\u001b[0m\u001b[0m\n\u001b[1;32m    362\u001b[0m \u001b[0;34m\u001b[0m\u001b[0m\n",
      "\u001b[0;32m~/opt/anaconda3/lib/python3.7/site-packages/sklearn/decomposition/pca.py\u001b[0m in \u001b[0;36m_fit\u001b[0;34m(self, X)\u001b[0m\n\u001b[1;32m    380\u001b[0m \u001b[0;34m\u001b[0m\u001b[0m\n\u001b[1;32m    381\u001b[0m         X = check_array(X, dtype=[np.float64, np.float32], ensure_2d=True,\n\u001b[0;32m--> 382\u001b[0;31m                         copy=self.copy)\n\u001b[0m\u001b[1;32m    383\u001b[0m \u001b[0;34m\u001b[0m\u001b[0m\n\u001b[1;32m    384\u001b[0m         \u001b[0;31m# Handle n_components==None\u001b[0m\u001b[0;34m\u001b[0m\u001b[0;34m\u001b[0m\u001b[0;34m\u001b[0m\u001b[0m\n",
      "\u001b[0;32m~/opt/anaconda3/lib/python3.7/site-packages/sklearn/utils/validation.py\u001b[0m in \u001b[0;36mcheck_array\u001b[0;34m(array, accept_sparse, accept_large_sparse, dtype, order, copy, force_all_finite, ensure_2d, allow_nd, ensure_min_samples, ensure_min_features, warn_on_dtype, estimator)\u001b[0m\n\u001b[1;32m    494\u001b[0m             \u001b[0;32mtry\u001b[0m\u001b[0;34m:\u001b[0m\u001b[0;34m\u001b[0m\u001b[0;34m\u001b[0m\u001b[0m\n\u001b[1;32m    495\u001b[0m                 \u001b[0mwarnings\u001b[0m\u001b[0;34m.\u001b[0m\u001b[0msimplefilter\u001b[0m\u001b[0;34m(\u001b[0m\u001b[0;34m'error'\u001b[0m\u001b[0;34m,\u001b[0m \u001b[0mComplexWarning\u001b[0m\u001b[0;34m)\u001b[0m\u001b[0;34m\u001b[0m\u001b[0;34m\u001b[0m\u001b[0m\n\u001b[0;32m--> 496\u001b[0;31m                 \u001b[0marray\u001b[0m \u001b[0;34m=\u001b[0m \u001b[0mnp\u001b[0m\u001b[0;34m.\u001b[0m\u001b[0masarray\u001b[0m\u001b[0;34m(\u001b[0m\u001b[0marray\u001b[0m\u001b[0;34m,\u001b[0m \u001b[0mdtype\u001b[0m\u001b[0;34m=\u001b[0m\u001b[0mdtype\u001b[0m\u001b[0;34m,\u001b[0m \u001b[0morder\u001b[0m\u001b[0;34m=\u001b[0m\u001b[0morder\u001b[0m\u001b[0;34m)\u001b[0m\u001b[0;34m\u001b[0m\u001b[0;34m\u001b[0m\u001b[0m\n\u001b[0m\u001b[1;32m    497\u001b[0m             \u001b[0;32mexcept\u001b[0m \u001b[0mComplexWarning\u001b[0m\u001b[0;34m:\u001b[0m\u001b[0;34m\u001b[0m\u001b[0;34m\u001b[0m\u001b[0m\n\u001b[1;32m    498\u001b[0m                 raise ValueError(\"Complex data not supported\\n\"\n",
      "\u001b[0;32m~/.local/lib/python3.7/site-packages/numpy/core/_asarray.py\u001b[0m in \u001b[0;36masarray\u001b[0;34m(a, dtype, order)\u001b[0m\n\u001b[1;32m     81\u001b[0m \u001b[0;34m\u001b[0m\u001b[0m\n\u001b[1;32m     82\u001b[0m     \"\"\"\n\u001b[0;32m---> 83\u001b[0;31m     \u001b[0;32mreturn\u001b[0m \u001b[0marray\u001b[0m\u001b[0;34m(\u001b[0m\u001b[0ma\u001b[0m\u001b[0;34m,\u001b[0m \u001b[0mdtype\u001b[0m\u001b[0;34m,\u001b[0m \u001b[0mcopy\u001b[0m\u001b[0;34m=\u001b[0m\u001b[0;32mFalse\u001b[0m\u001b[0;34m,\u001b[0m \u001b[0morder\u001b[0m\u001b[0;34m=\u001b[0m\u001b[0morder\u001b[0m\u001b[0;34m)\u001b[0m\u001b[0;34m\u001b[0m\u001b[0;34m\u001b[0m\u001b[0m\n\u001b[0m\u001b[1;32m     84\u001b[0m \u001b[0;34m\u001b[0m\u001b[0m\n\u001b[1;32m     85\u001b[0m \u001b[0;34m\u001b[0m\u001b[0m\n",
      "\u001b[0;31mValueError\u001b[0m: could not convert string to float: 'Hey, Soul Sister'"
     ]
    }
   ],
   "source": [
    "pca = PCA(2).fit_transform(df)\n",
    "pcaWithVar = PCA(2).fit_transform(dfVar)\n",
    "genres = dfGenre.to_numpy()\n",
    "\n",
    "fig, ax = plt.subplots(1,1, figsize=(15,15))\n",
    "dfPca = pd.DataFrame(pca, columns = ['PCA 1', 'PCA 2'])\n",
    "dfPca['Clusters'] = genres\n",
    "sns.scatterplot(data = dfPca, x = 'PCA 1', y = 'PCA 2', hue = 'Clusters', palette = 'colorblind', s = 75).set_title(\"PCA Analysis\")"
   ]
  },
  {
   "cell_type": "code",
   "execution_count": null,
   "metadata": {},
   "outputs": [],
   "source": []
  }
 ],
 "metadata": {
  "kernelspec": {
   "display_name": "Python 3",
   "language": "python",
   "name": "python3"
  },
  "language_info": {
   "codemirror_mode": {
    "name": "ipython",
    "version": 3
   },
   "file_extension": ".py",
   "mimetype": "text/x-python",
   "name": "python",
   "nbconvert_exporter": "python",
   "pygments_lexer": "ipython3",
   "version": "3.7.4"
  }
 },
 "nbformat": 4,
 "nbformat_minor": 2
}
